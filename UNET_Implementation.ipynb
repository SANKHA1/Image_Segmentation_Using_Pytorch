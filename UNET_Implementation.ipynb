{
  "nbformat": 4,
  "nbformat_minor": 0,
  "metadata": {
    "colab": {
      "name": "UNET_Implementation.ipynb",
      "provenance": [],
      "collapsed_sections": []
    },
    "kernelspec": {
      "name": "python3",
      "display_name": "Python 3"
    },
    "language_info": {
      "name": "python"
    },
    "gpuClass": "standard"
  },
  "cells": [
    {
      "cell_type": "code",
      "execution_count": 1,
      "metadata": {
        "colab": {
          "base_uri": "https://localhost:8080/"
        },
        "id": "RyB5Pn3u1BJH",
        "outputId": "717aa634-a387-49e4-9701-f9c09792ee82"
      },
      "outputs": [
        {
          "output_type": "stream",
          "name": "stdout",
          "text": [
            "Looking in indexes: https://pypi.org/simple, https://us-python.pkg.dev/colab-wheels/public/simple/\n",
            "Collecting albumentations==0.4.6\n",
            "  Downloading albumentations-0.4.6.tar.gz (117 kB)\n",
            "\u001b[K     |████████████████████████████████| 117 kB 32.5 MB/s \n",
            "\u001b[?25hRequirement already satisfied: numpy>=1.11.1 in /usr/local/lib/python3.7/dist-packages (from albumentations==0.4.6) (1.21.6)\n",
            "Requirement already satisfied: scipy in /usr/local/lib/python3.7/dist-packages (from albumentations==0.4.6) (1.7.3)\n",
            "Collecting imgaug>=0.4.0\n",
            "  Downloading imgaug-0.4.0-py2.py3-none-any.whl (948 kB)\n",
            "\u001b[K     |████████████████████████████████| 948 kB 53.7 MB/s \n",
            "\u001b[?25hRequirement already satisfied: PyYAML in /usr/local/lib/python3.7/dist-packages (from albumentations==0.4.6) (3.13)\n",
            "Requirement already satisfied: opencv-python>=4.1.1 in /usr/local/lib/python3.7/dist-packages (from albumentations==0.4.6) (4.6.0.66)\n",
            "Requirement already satisfied: matplotlib in /usr/local/lib/python3.7/dist-packages (from imgaug>=0.4.0->albumentations==0.4.6) (3.2.2)\n",
            "Requirement already satisfied: Shapely in /usr/local/lib/python3.7/dist-packages (from imgaug>=0.4.0->albumentations==0.4.6) (1.8.2)\n",
            "Requirement already satisfied: six in /usr/local/lib/python3.7/dist-packages (from imgaug>=0.4.0->albumentations==0.4.6) (1.15.0)\n",
            "Requirement already satisfied: scikit-image>=0.14.2 in /usr/local/lib/python3.7/dist-packages (from imgaug>=0.4.0->albumentations==0.4.6) (0.18.3)\n",
            "Requirement already satisfied: Pillow in /usr/local/lib/python3.7/dist-packages (from imgaug>=0.4.0->albumentations==0.4.6) (7.1.2)\n",
            "Requirement already satisfied: imageio in /usr/local/lib/python3.7/dist-packages (from imgaug>=0.4.0->albumentations==0.4.6) (2.4.1)\n",
            "Requirement already satisfied: PyWavelets>=1.1.1 in /usr/local/lib/python3.7/dist-packages (from scikit-image>=0.14.2->imgaug>=0.4.0->albumentations==0.4.6) (1.3.0)\n",
            "Requirement already satisfied: tifffile>=2019.7.26 in /usr/local/lib/python3.7/dist-packages (from scikit-image>=0.14.2->imgaug>=0.4.0->albumentations==0.4.6) (2021.11.2)\n",
            "Requirement already satisfied: networkx>=2.0 in /usr/local/lib/python3.7/dist-packages (from scikit-image>=0.14.2->imgaug>=0.4.0->albumentations==0.4.6) (2.6.3)\n",
            "Requirement already satisfied: kiwisolver>=1.0.1 in /usr/local/lib/python3.7/dist-packages (from matplotlib->imgaug>=0.4.0->albumentations==0.4.6) (1.4.4)\n",
            "Requirement already satisfied: cycler>=0.10 in /usr/local/lib/python3.7/dist-packages (from matplotlib->imgaug>=0.4.0->albumentations==0.4.6) (0.11.0)\n",
            "Requirement already satisfied: pyparsing!=2.0.4,!=2.1.2,!=2.1.6,>=2.0.1 in /usr/local/lib/python3.7/dist-packages (from matplotlib->imgaug>=0.4.0->albumentations==0.4.6) (3.0.9)\n",
            "Requirement already satisfied: python-dateutil>=2.1 in /usr/local/lib/python3.7/dist-packages (from matplotlib->imgaug>=0.4.0->albumentations==0.4.6) (2.8.2)\n",
            "Requirement already satisfied: typing-extensions in /usr/local/lib/python3.7/dist-packages (from kiwisolver>=1.0.1->matplotlib->imgaug>=0.4.0->albumentations==0.4.6) (4.1.1)\n",
            "Building wheels for collected packages: albumentations\n",
            "  Building wheel for albumentations (setup.py) ... \u001b[?25l\u001b[?25hdone\n",
            "  Created wheel for albumentations: filename=albumentations-0.4.6-py3-none-any.whl size=65174 sha256=08bf92e15fce72696b71dc7d82de7948f95ec0f8069755086ae815f2cb6b503f\n",
            "  Stored in directory: /root/.cache/pip/wheels/cf/34/0f/cb2a5f93561a181a4bcc84847ad6aaceea8b5a3127469616cc\n",
            "Successfully built albumentations\n",
            "Installing collected packages: imgaug, albumentations\n",
            "  Attempting uninstall: imgaug\n",
            "    Found existing installation: imgaug 0.2.9\n",
            "    Uninstalling imgaug-0.2.9:\n",
            "      Successfully uninstalled imgaug-0.2.9\n",
            "  Attempting uninstall: albumentations\n",
            "    Found existing installation: albumentations 0.1.12\n",
            "    Uninstalling albumentations-0.1.12:\n",
            "      Successfully uninstalled albumentations-0.1.12\n",
            "Successfully installed albumentations-0.4.6 imgaug-0.4.0\n"
          ]
        }
      ],
      "source": [
        "!pip install albumentations==0.4.6"
      ]
    },
    {
      "cell_type": "code",
      "source": [
        "import albumentations as A\n",
        "from albumentations.pytorch import ToTensorV2"
      ],
      "metadata": {
        "id": "xqJcpYgQ2UuY"
      },
      "execution_count": 1,
      "outputs": []
    },
    {
      "cell_type": "code",
      "source": [
        "!pip install -U -q PyDrive\n",
        "from pydrive.auth import GoogleAuth\n",
        "from pydrive.drive import GoogleDrive\n",
        "from google.colab import auth\n",
        "from oauth2client.client import GoogleCredentials"
      ],
      "metadata": {
        "id": "GBNL_WEU2cUC"
      },
      "execution_count": 2,
      "outputs": []
    },
    {
      "cell_type": "code",
      "source": [
        "auth.authenticate_user()\n",
        "gauth = GoogleAuth()\n",
        "gauth.credentials = GoogleCredentials.get_application_default()\n",
        "drive = GoogleDrive(gauth)"
      ],
      "metadata": {
        "id": "gTLgHOld2fhQ"
      },
      "execution_count": 3,
      "outputs": []
    },
    {
      "cell_type": "code",
      "source": [
        "PATH = '/content/drive/MyDrive/Colab Notebooks/data'"
      ],
      "metadata": {
        "id": "jv2ezuEK2kRj"
      },
      "execution_count": 4,
      "outputs": []
    },
    {
      "cell_type": "code",
      "source": [
        "import os\n",
        "os.listdir(PATH)"
      ],
      "metadata": {
        "colab": {
          "base_uri": "https://localhost:8080/"
        },
        "id": "eV5sXwID2mcy",
        "outputId": "cb384c44-1bc1-413c-e7d6-1ecea86741df"
      },
      "execution_count": 5,
      "outputs": [
        {
          "output_type": "execute_result",
          "data": {
            "text/plain": [
              "['val_masks', 'val_images', 'train_images', 'train_masks']"
            ]
          },
          "metadata": {},
          "execution_count": 5
        }
      ]
    },
    {
      "cell_type": "code",
      "source": [
        "train_img = os.path.join(PATH,'train_images')\n",
        "train_mask = os.path.join(PATH,'train_masks')\n",
        "val_img = os.path.join(PATH,'val_images')\n",
        "val_mask = os.path.join(PATH,'val_masks')"
      ],
      "metadata": {
        "id": "S3l26Gyj2miD"
      },
      "execution_count": 6,
      "outputs": []
    },
    {
      "cell_type": "code",
      "source": [
        "len(os.listdir(train_img))"
      ],
      "metadata": {
        "colab": {
          "base_uri": "https://localhost:8080/"
        },
        "id": "KmkEA31527II",
        "outputId": "e5354c8e-dc63-4a7f-c566-2434383c0bc0"
      },
      "execution_count": 7,
      "outputs": [
        {
          "output_type": "execute_result",
          "data": {
            "text/plain": [
              "312"
            ]
          },
          "metadata": {},
          "execution_count": 7
        }
      ]
    },
    {
      "cell_type": "code",
      "source": [
        "len(os.listdir(train_mask))"
      ],
      "metadata": {
        "colab": {
          "base_uri": "https://localhost:8080/"
        },
        "id": "CG2g8bLW28z3",
        "outputId": "9c7ccdd4-c496-49af-d953-0f257ff4fbb4"
      },
      "execution_count": 8,
      "outputs": [
        {
          "output_type": "execute_result",
          "data": {
            "text/plain": [
              "312"
            ]
          },
          "metadata": {},
          "execution_count": 8
        }
      ]
    },
    {
      "cell_type": "code",
      "source": [
        "len(os.listdir(val_img))"
      ],
      "metadata": {
        "colab": {
          "base_uri": "https://localhost:8080/"
        },
        "id": "L3nqhgQP28-9",
        "outputId": "780e3895-47e9-4635-e8a1-e939fac1368b"
      },
      "execution_count": 9,
      "outputs": [
        {
          "output_type": "execute_result",
          "data": {
            "text/plain": [
              "48"
            ]
          },
          "metadata": {},
          "execution_count": 9
        }
      ]
    },
    {
      "cell_type": "code",
      "source": [
        "len(os.listdir(val_mask))"
      ],
      "metadata": {
        "colab": {
          "base_uri": "https://localhost:8080/"
        },
        "id": "TQR5f-va3Bb6",
        "outputId": "e14d284c-e534-4cd9-80ad-198092dfce76"
      },
      "execution_count": 10,
      "outputs": [
        {
          "output_type": "execute_result",
          "data": {
            "text/plain": [
              "48"
            ]
          },
          "metadata": {},
          "execution_count": 10
        }
      ]
    },
    {
      "cell_type": "markdown",
      "source": [
        "Library Import"
      ],
      "metadata": {
        "id": "XuNp6Ang3Fwa"
      }
    },
    {
      "cell_type": "code",
      "source": [
        "import torch\n",
        "import torch.nn as nn\n",
        "import numpy as np\n",
        "import pandas as pd\n",
        "import matplotlib.pyplot as plt\n",
        "import torchvision\n",
        "from torchvision import datasets,transforms\n",
        "from tqdm import tqdm\n",
        "import cv2\n",
        "from torch.utils.data import Dataset,DataLoader\n",
        "import torch.optim as optim\n",
        "from PIL import Image\n",
        "import torchvision.transforms as transforms\n",
        "import os\n",
        "import torch.nn.functional as F"
      ],
      "metadata": {
        "id": "AYRBsDEE3DPQ"
      },
      "execution_count": 11,
      "outputs": []
    },
    {
      "cell_type": "code",
      "source": [
        "# config\n",
        "LEARNING_RATE = 1e-4\n",
        "SPLIT=0.2\n",
        "DEVICE = \"cuda\" if torch.cuda.is_available() else \"cpu\"\n",
        "BATCH_SIZE = 4\n",
        "EPOCHS = 4\n",
        "NUM_WORKERS = 4\n",
        "IMAGE_HEIGHT = 572\n",
        "IMAGE_WIDTH = 572\n",
        "PIN_MEMORY = True"
      ],
      "metadata": {
        "id": "kIUDboWgqO9q"
      },
      "execution_count": 12,
      "outputs": []
    },
    {
      "cell_type": "markdown",
      "source": [
        "Dataset"
      ],
      "metadata": {
        "id": "r9oQ5dK1qhuU"
      }
    },
    {
      "cell_type": "code",
      "source": [
        "class CarvanaDataset(Dataset):\n",
        "    def __init__(self,images,image_dir,mask_dir,transform=None,train=True):\n",
        "        self.image_dir = image_dir\n",
        "        self.mask_dir = mask_dir\n",
        "        self.transform = transform\n",
        "        self.isTrain = train\n",
        "        self.images = images\n",
        "    def __len__(self):\n",
        "        return len(self.images)\n",
        "    def __getitem__(self,index):\n",
        "        img_path = os.path.join(self.image_dir,self.images[index])\n",
        "        mask_path = os.path.join(self.mask_dir,self.images[index].replace(\".jpg\",\"_mask.gif\"))\n",
        "        image = np.array(Image.open(img_path).convert(\"RGB\"))\n",
        "        mask = np.array(Image.open(mask_path).convert(\"L\"),dtype=np.float32)\n",
        "        mask[mask == 255.0] = 1.0\n",
        "        \n",
        "        if self.transform is not None:\n",
        "            augmentations = self.transform(image=image,mask=mask)\n",
        "            image = augmentations['image']\n",
        "            mask = augmentations['mask']\n",
        "            \n",
        "        return {\"image\":image,\"mask\":mask}"
      ],
      "metadata": {
        "id": "4fp2lsMyqlHo"
      },
      "execution_count": 13,
      "outputs": []
    },
    {
      "cell_type": "code",
      "source": [
        "images = os.listdir(train_img)\n",
        "masks = os.listdir(train_mask)"
      ],
      "metadata": {
        "id": "nVpQqCY1qpk1"
      },
      "execution_count": 14,
      "outputs": []
    },
    {
      "cell_type": "code",
      "source": [
        "img = np.array(Image.open(train_img+\"/\"+images[0]).convert(\"RGB\"))\n",
        "plt.imshow(img,cmap=\"gray\")\n",
        "print(img.shape)"
      ],
      "metadata": {
        "colab": {
          "base_uri": "https://localhost:8080/",
          "height": 286
        },
        "id": "ueT2TYTZqtF7",
        "outputId": "b577a1ae-dbde-4e23-b7fb-8872b3bb1bf7"
      },
      "execution_count": 15,
      "outputs": [
        {
          "output_type": "stream",
          "name": "stdout",
          "text": [
            "(1280, 1918, 3)\n"
          ]
        },
        {
          "output_type": "display_data",
          "data": {
            "text/plain": [
              "<Figure size 432x288 with 1 Axes>"
            ],
            "image/png": "[encoded data removed]"
          },
          "metadata": {
            "needs_background": "light"
          }
        }
      ]
    },
    {
      "cell_type": "code",
      "source": [
        "def train_test_split(images,splitSize):\n",
        "    imageLen = len(images)\n",
        "    val_len = int(splitSize*imageLen)\n",
        "    train_len = imageLen - val_len\n",
        "    train_images,val_images = images[:train_len],images[train_len:]\n",
        "    return train_images,val_images"
      ],
      "metadata": {
        "id": "evrmKyYKquDn"
      },
      "execution_count": 16,
      "outputs": []
    },
    {
      "cell_type": "markdown",
      "source": [
        "Model Fitting Function"
      ],
      "metadata": {
        "id": "pFHFnJBKqxae"
      }
    },
    {
      "cell_type": "code",
      "source": [
        "def fit(model,dataloader,data,optimizer,criterion):\n",
        "    print('-------------Training---------------')\n",
        "    model.train()\n",
        "    train_running_loss = 0.0\n",
        "    counter=0\n",
        "    \n",
        "    # num of batches\n",
        "    num_batches = int(len(data)/dataloader.batch_size)\n",
        "    for i,data in tqdm(enumerate(dataloader),total=num_batches):\n",
        "        counter+=1\n",
        "        image,mask = data[\"image\"].to(DEVICE),data[\"mask\"].to(DEVICE)\n",
        "        optimizer.zero_grad()\n",
        "        outputs = model(image)\n",
        "        outputs =outputs.squeeze(1)\n",
        "        loss = criterion(outputs,mask)\n",
        "        train_running_loss += loss.item()\n",
        "        loss.backward()\n",
        "        optimizer.step()\n",
        "    train_loss = train_running_loss/counter\n",
        "    return train_loss\n",
        "def validate(model,dataloader,data,criterion):\n",
        "    print(\"\\n--------Validating---------\\n\")\n",
        "    model.eval()\n",
        "    valid_running_loss = 0.0\n",
        "    counter = 0\n",
        "    # number of batches\n",
        "    num_batches = int(len(data)/dataloader.batch_size)\n",
        "    with torch.no_grad():\n",
        "        for i,data in tqdm(enumerate(dataloader),total=num_batches):\n",
        "            counter+=1\n",
        "            image,mask = data[\"image\"].to(DEVICE),data[\"mask\"].to(DEVICE)\n",
        "            outputs = model(image)\n",
        "            outputs =outputs.squeeze(1)\n",
        "            loss = criterion(outputs,mask)\n",
        "            valid_running_loss += loss.item()\n",
        "    valid_loss = valid_running_loss/counter\n",
        "    return valid_loss"
      ],
      "metadata": {
        "id": "kn7mTR-PqyI-"
      },
      "execution_count": 17,
      "outputs": []
    },
    {
      "cell_type": "markdown",
      "source": [
        "UNET Architecture"
      ],
      "metadata": {
        "id": "7Lol-CYjq4EU"
      }
    },
    {
      "cell_type": "code",
      "source": [
        "import torch\n",
        "import torch.nn as nn\n",
        "\n",
        "\n",
        "def double_conv(in_c, out_c):\n",
        "    conv = nn.Sequential(\n",
        "        nn.Conv2d(in_c, out_c, kernel_size=3, stride=1, padding=1),\n",
        "        nn.BatchNorm2d(out_c),\n",
        "        nn.ReLU(inplace=True),\n",
        "        nn.Conv2d(out_c, out_c, kernel_size=3, stride=1, padding=1),\n",
        "        nn.BatchNorm2d(out_c),\n",
        "        nn.ReLU(inplace=True)\n",
        "    )\n",
        "    return conv.to(DEVICE)\n",
        "\n",
        "\n",
        "def addPadding(srcShapeTensor, tensor_whose_shape_isTobechanged):\n",
        "\n",
        "    if(srcShapeTensor.shape != tensor_whose_shape_isTobechanged.shape):\n",
        "        target = torch.zeros(srcShapeTensor.shape)\n",
        "        target[:, :, :tensor_whose_shape_isTobechanged.shape[2],\n",
        "               :tensor_whose_shape_isTobechanged.shape[3]] = tensor_whose_shape_isTobechanged\n",
        "        return target.to(DEVICE)\n",
        "    return tensor_whose_shape_isTobechanged.to(DEVICE)\n",
        "\n",
        "class UNet(nn.Module):\n",
        "    def __init__(self):\n",
        "        super(UNet, self).__init__()\n",
        "        self.max_pool_2x2 = nn.MaxPool2d(kernel_size=2, stride=2)\n",
        "        self.down_conv_1 = double_conv(3, 64)\n",
        "        self.down_conv_2 = double_conv(64, 128)\n",
        "        self.down_conv_3 = double_conv(128, 256)\n",
        "        self.down_conv_4 = double_conv(256, 512)\n",
        "        self.down_conv_5 = double_conv(512, 1024)\n",
        "\n",
        "        self.up_trans_1 = nn.ConvTranspose2d(\n",
        "            in_channels=1024,\n",
        "            out_channels=512,\n",
        "            kernel_size=2,\n",
        "            stride=2\n",
        "        )\n",
        "        self.up_conv_1 = double_conv(1024, 512)\n",
        "\n",
        "        self.up_trans_2 = nn.ConvTranspose2d(\n",
        "            in_channels=512,\n",
        "            out_channels=256,\n",
        "            kernel_size=2,\n",
        "            stride=2\n",
        "        )\n",
        "        self.up_conv_2 = double_conv(512, 256)\n",
        "\n",
        "        self.up_trans_3 = nn.ConvTranspose2d(\n",
        "            in_channels=256,\n",
        "            out_channels=128,\n",
        "            kernel_size=2,\n",
        "            stride=2\n",
        "        )\n",
        "        self.up_conv_3 = double_conv(256, 128)\n",
        "\n",
        "        self.up_trans_4 = nn.ConvTranspose2d(\n",
        "            in_channels=128,\n",
        "            out_channels=64,\n",
        "            kernel_size=2,\n",
        "            stride=2\n",
        "        )\n",
        "        self.up_conv_4 = double_conv(128, 64)\n",
        "\n",
        "        self.out = nn.Conv2d(\n",
        "            in_channels=64,\n",
        "            out_channels=1,\n",
        "            kernel_size=1\n",
        "        )\n",
        "\n",
        "    def forward(self, image):\n",
        "        # expected size\n",
        "        # encoder (Normal convolutions decrease the size)\n",
        "        x1 = self.down_conv_1(image)\n",
        "        # print(\"x1 \"+str(x1.shape))\n",
        "        x2 = self.max_pool_2x2(x1)\n",
        "        # print(\"x2 \"+str(x2.shape))\n",
        "        x3 = self.down_conv_2(x2)\n",
        "        # print(\"x3 \"+str(x3.shape))\n",
        "        x4 = self.max_pool_2x2(x3)\n",
        "        # print(\"x4 \"+str(x4.shape))\n",
        "        x5 = self.down_conv_3(x4)\n",
        "        # print(\"x5 \"+str(x5.shape))\n",
        "        x6 = self.max_pool_2x2(x5)\n",
        "        # print(\"x6 \"+str(x6.shape))\n",
        "        x7 = self.down_conv_4(x6)\n",
        "        # print(\"x7 \"+str(x7.shape))\n",
        "        x8 = self.max_pool_2x2(x7)\n",
        "        # print(\"x8 \"+str(x8.shape))\n",
        "        x9 = self.down_conv_5(x8)\n",
        "        # print(\"x9 \"+str(x9.shape))\n",
        "\n",
        "        # decoder (transposed convolutions increase the size)\n",
        "        x = self.up_trans_1(x9)\n",
        "        x = addPadding(x7, x)\n",
        "        x = self.up_conv_1(torch.cat([x7, x], 1))\n",
        "\n",
        "        x = self.up_trans_2(x)\n",
        "        x = addPadding(x5, x)\n",
        "        x = self.up_conv_2(torch.cat([x5, x], 1))\n",
        "\n",
        "        x = self.up_trans_3(x)\n",
        "        x = addPadding(x3, x)\n",
        "        x = self.up_conv_3(torch.cat([x3, x], 1))\n",
        "\n",
        "        x = self.up_trans_4(x)\n",
        "        x = addPadding(x1, x)\n",
        "        x = self.up_conv_4(torch.cat([x1, x], 1))\n",
        "\n",
        "        x = self.out(x)\n",
        "        # print(x.shape)\n",
        "        return x.to(DEVICE)"
      ],
      "metadata": {
        "id": "fC_0D5Myq2qu"
      },
      "execution_count": 18,
      "outputs": []
    },
    {
      "cell_type": "code",
      "source": [
        "train_transform = A.Compose([\n",
        "    A.Resize(IMAGE_HEIGHT,IMAGE_WIDTH),\n",
        "    A.Rotate(limit=35,p=1.0),\n",
        "    A.HorizontalFlip(p=0.5),\n",
        "    A.VerticalFlip(p=0.1),\n",
        "    A.Normalize(\n",
        "        mean=[0.0,0.0,0.0],\n",
        "        std = [1.0,1.0,1.0],\n",
        "        max_pixel_value=255.0\n",
        "    ),\n",
        "    ToTensorV2()  \n",
        "])\n",
        "validation_transform = A.Compose([\n",
        "    A.Resize(IMAGE_HEIGHT,IMAGE_WIDTH),\n",
        "    A.Normalize(\n",
        "        mean = [0.0,0.0,0.0],\n",
        "        std = [1.0,1.0,1.0],\n",
        "        max_pixel_value=255.0,\n",
        "    ),\n",
        "    ToTensorV2()\n",
        "])"
      ],
      "metadata": {
        "id": "OxPsrrgLUfw7"
      },
      "execution_count": 19,
      "outputs": []
    },
    {
      "cell_type": "code",
      "source": [
        "train_images_path,val_images_path = train_test_split(images,SPLIT)\n",
        "train_data = CarvanaDataset(train_images_path,train_img,train_mask,train_transform,True)\n",
        "valid_data = CarvanaDataset(val_images_path,train_img,train_mask,validation_transform,True)\n",
        "train_dataloader = DataLoader(train_data,batch_size=BATCH_SIZE,shuffle=True)\n",
        "valid_dataloader = DataLoader(valid_data,batch_size=BATCH_SIZE,shuffle=False)"
      ],
      "metadata": {
        "id": "cbJnk0D_Uk53"
      },
      "execution_count": 20,
      "outputs": []
    },
    {
      "cell_type": "code",
      "source": [
        "image = train_data.__getitem__(0)[\"image\"].shape\n",
        "image"
      ],
      "metadata": {
        "colab": {
          "base_uri": "https://localhost:8080/"
        },
        "id": "1VtVYi9lUnDb",
        "outputId": "6eef1e28-9dbe-45d6-d234-36e91d835663"
      },
      "execution_count": 21,
      "outputs": [
        {
          "output_type": "execute_result",
          "data": {
            "text/plain": [
              "torch.Size([3, 572, 572])"
            ]
          },
          "metadata": {},
          "execution_count": 21
        }
      ]
    },
    {
      "cell_type": "code",
      "source": [
        "train_loss = []\n",
        "val_loss =[]\n",
        "model = UNet().to(DEVICE)\n",
        "optimizer = optim.Adam(model.parameters(),lr=LEARNING_RATE)\n",
        "criterion = nn.BCEWithLogitsLoss()\n",
        "for epoch in range(EPOCHS):\n",
        "    print(f\"Epoch {epoch+1} of {EPOCHS}\")\n",
        "    train_epoch_loss = fit(model, train_dataloader, train_data,optimizer,criterion)\n",
        "    val_epoch_loss = validate(model, valid_dataloader, valid_data, criterion)\n",
        "    train_loss.append(train_epoch_loss)\n",
        "    val_loss.append(val_epoch_loss)\n",
        "    print(f\"Train Loss: {train_epoch_loss:.4f}\")\n",
        "    print(f'Val Loss: {val_epoch_loss:.4f}')\n",
        "\n",
        "# loss plots\n",
        "plt.figure(figsize=(10, 7))\n",
        "plt.plot(train_loss, color=\"orange\", label='train loss')\n",
        "plt.plot(val_loss, color=\"red\", label='validation loss')\n",
        "plt.xlabel(\"Epochs\")\n",
        "plt.ylabel(\"Loss\")\n",
        "plt.legend()\n",
        "# plt.savefig(f\"../input/loss.png\")\n",
        "plt.show()\n",
        "torch.save({\n",
        "    'epoch': EPOCHS,\n",
        "    'model_state_dict': model.state_dict(),\n",
        "    'optimizer_state_dict': optimizer.state_dict(),\n",
        "    'loss': criterion,\n",
        "}, \"./model.pth\")\n",
        "\n",
        "print(\"\\n---------DONE TRAINING----------\\n\")"
      ],
      "metadata": {
        "colab": {
          "base_uri": "https://localhost:8080/",
          "height": 1000
        },
        "id": "BsnaHWh1Upfu",
        "outputId": "ff8cc8de-2c71-43a5-fa75-7e59e6452c8e"
      },
      "execution_count": 22,
      "outputs": [
        {
          "output_type": "stream",
          "name": "stdout",
          "text": [
            "Epoch 1 of 4\n",
            "-------------Training---------------\n"
          ]
        },
        {
          "output_type": "stream",
          "name": "stderr",
          "text": [
            "63it [08:09,  7.77s/it]\n"
          ]
        },
        {
          "output_type": "stream",
          "name": "stdout",
          "text": [
            "\n",
            "--------Validating---------\n",
            "\n"
          ]
        },
        {
          "output_type": "stream",
          "name": "stderr",
          "text": [
            "16it [01:48,  6.81s/it]\n"
          ]
        },
        {
          "output_type": "stream",
          "name": "stdout",
          "text": [
            "Train Loss: 0.3593\n",
            "Val Loss: 0.3097\n",
            "Epoch 2 of 4\n",
            "-------------Training---------------\n"
          ]
        },
        {
          "output_type": "stream",
          "name": "stderr",
          "text": [
            "63it [01:29,  1.43s/it]\n"
          ]
        },
        {
          "output_type": "stream",
          "name": "stdout",
          "text": [
            "\n",
            "--------Validating---------\n",
            "\n"
          ]
        },
        {
          "output_type": "stream",
          "name": "stderr",
          "text": [
            "16it [00:12,  1.31it/s]\n"
          ]
        },
        {
          "output_type": "stream",
          "name": "stdout",
          "text": [
            "Train Loss: 0.2532\n",
            "Val Loss: 0.2555\n",
            "Epoch 3 of 4\n",
            "-------------Training---------------\n"
          ]
        },
        {
          "output_type": "stream",
          "name": "stderr",
          "text": [
            "63it [01:33,  1.48s/it]\n"
          ]
        },
        {
          "output_type": "stream",
          "name": "stdout",
          "text": [
            "\n",
            "--------Validating---------\n",
            "\n"
          ]
        },
        {
          "output_type": "stream",
          "name": "stderr",
          "text": [
            "16it [00:11,  1.33it/s]\n"
          ]
        },
        {
          "output_type": "stream",
          "name": "stdout",
          "text": [
            "Train Loss: 0.2189\n",
            "Val Loss: 0.1982\n",
            "Epoch 4 of 4\n",
            "-------------Training---------------\n"
          ]
        },
        {
          "output_type": "stream",
          "name": "stderr",
          "text": [
            "63it [01:35,  1.52s/it]\n"
          ]
        },
        {
          "output_type": "stream",
          "name": "stdout",
          "text": [
            "\n",
            "--------Validating---------\n",
            "\n"
          ]
        },
        {
          "output_type": "stream",
          "name": "stderr",
          "text": [
            "16it [00:11,  1.34it/s]\n"
          ]
        },
        {
          "output_type": "stream",
          "name": "stdout",
          "text": [
            "Train Loss: 0.1966\n",
            "Val Loss: 0.1913\n"
          ]
        },
        {
          "output_type": "display_data",
          "data": {
            "text/plain": [
              "<Figure size 720x504 with 1 Axes>"
            ],
            "image/png": "[encoded data removed]"
          },
          "metadata": {
            "needs_background": "light"
          }
        },
        {
          "output_type": "stream",
          "name": "stdout",
          "text": [
            "\n",
            "---------DONE TRAINING----------\n",
            "\n"
          ]
        }
      ]
    },
    {
      "cell_type": "markdown",
      "source": [
        "Dice Loss"
      ],
      "metadata": {
        "id": "9MryikMHU2bq"
      }
    },
    {
      "cell_type": "code",
      "source": [
        "import warnings\n",
        "warnings.filterwarnings('ignore')\n",
        "import cv2\n",
        "import numpy as np\n",
        "from keras import backend as K"
      ],
      "metadata": {
        "id": "E2UfTcM0UxE8"
      },
      "execution_count": 23,
      "outputs": []
    },
    {
      "cell_type": "code",
      "source": [
        "def dice_coefficient(y_true, y_pred, smooth=1):\n",
        "    intersection = K.sum(y_true * y_pred, axis=[1, 2, 3])\n",
        "    union = K.sum(y_true, axis=[1, 2, 3]) + K.sum(y_pred, axis=[1, 2, 3])\n",
        "    return K.mean((2. * intersection + smooth) / (union + smooth), axis=0)"
      ],
      "metadata": {
        "id": "zj3wBox5U7Xl"
      },
      "execution_count": 24,
      "outputs": []
    },
    {
      "cell_type": "code",
      "source": [
        "y_pred =valid_data.__getitem__(0)[\"image\"]\n",
        "y_true = train_data.__getitem__(0)[\"image\"]\n",
        "\n",
        "print(y_pred.shape)\n",
        "print(y_true.shape)"
      ],
      "metadata": {
        "colab": {
          "base_uri": "https://localhost:8080/"
        },
        "id": "2oyApOriU9pl",
        "outputId": "b80ced74-6eda-4312-df33-63093fc9cb5a"
      },
      "execution_count": 25,
      "outputs": [
        {
          "output_type": "stream",
          "name": "stdout",
          "text": [
            "torch.Size([3, 572, 572])\n",
            "torch.Size([3, 572, 572])\n"
          ]
        }
      ]
    },
    {
      "cell_type": "code",
      "source": [
        "y_pred1 = y_pred.reshape((-1, 572, 572, 3 ))\n",
        "y_true1 = y_true.reshape((-1, 572, 572, 3 ))\n",
        "\n",
        "print(y_pred1.shape)\n",
        "print(y_true1.shape)"
      ],
      "metadata": {
        "colab": {
          "base_uri": "https://localhost:8080/"
        },
        "id": "nCD8Y9eeVFeP",
        "outputId": "39832d2d-5e32-43e7-8a24-39da4095c666"
      },
      "execution_count": 26,
      "outputs": [
        {
          "output_type": "stream",
          "name": "stdout",
          "text": [
            "torch.Size([1, 572, 572, 3])\n",
            "torch.Size([1, 572, 572, 3])\n"
          ]
        }
      ]
    },
    {
      "cell_type": "code",
      "source": [
        "dice_score = dice_coefficient(y_true1, y_pred1)\n",
        "print (\"Dice Coeff: {}\".format(dice_score))"
      ],
      "metadata": {
        "colab": {
          "base_uri": "https://localhost:8080/"
        },
        "id": "nirOyMW_VKvn",
        "outputId": "bc5938b8-9842-4b32-dac2-1385ed5203fc"
      },
      "execution_count": 27,
      "outputs": [
        {
          "output_type": "stream",
          "name": "stdout",
          "text": [
            "Dice Coeff: 0.7066107988357544\n"
          ]
        }
      ]
    },
    {
      "cell_type": "markdown",
      "source": [
        "Model Testing"
      ],
      "metadata": {
        "id": "OUNPHI0bYpuS"
      }
    },
    {
      "cell_type": "code",
      "source": [
        "data = train_data.__getitem__(100)\n",
        "plt.imshow(data['mask'],cmap=\"gray\")\n",
        "print(train_data.__getitem__(0)['mask'].shape)"
      ],
      "metadata": {
        "colab": {
          "base_uri": "https://localhost:8080/",
          "height": 286
        },
        "id": "U302m-GxVP9T",
        "outputId": "ac99c74f-b825-4ef8-f3a0-9a567f3cdc86"
      },
      "execution_count": 28,
      "outputs": [
        {
          "output_type": "stream",
          "name": "stdout",
          "text": [
            "torch.Size([572, 572])\n"
          ]
        },
        {
          "output_type": "display_data",
          "data": {
            "text/plain": [
              "<Figure size 432x288 with 1 Axes>"
            ],
            "image/png": "[encoded data removed]"
          },
          "metadata": {
            "needs_background": "light"
          }
        }
      ]
    },
    {
      "cell_type": "code",
      "source": [
        "# for Testing on Single datapoint after training\n",
        "# plt.imshow(np.transpose(np.array(data['image']),(1,2,0)),cmap=\"gray\")\n",
        "print(data['image'].shape)\n",
        "img = data['image'].unsqueeze(0).to(device=\"cuda\")\n",
        "# model = UNet()\n",
        "output = model(img)\n",
        "output = torch.squeeze(output)\n",
        "output[output>0.0] = 1.0\n",
        "output[output<=0.0]=0\n",
        "print(torch.max(output))\n",
        "print(output.shape)\n",
        "disp = output.detach().cpu()\n",
        "plt.imshow(disp,cmap=\"gray\")"
      ],
      "metadata": {
        "colab": {
          "base_uri": "https://localhost:8080/",
          "height": 338
        },
        "id": "rPV8AQH3VSuE",
        "outputId": "a238d4f3-7ab2-4284-8edd-b4cb642cd270"
      },
      "execution_count": 29,
      "outputs": [
        {
          "output_type": "stream",
          "name": "stdout",
          "text": [
            "torch.Size([3, 572, 572])\n",
            "tensor(1., device='cuda:0', grad_fn=<MaxBackward1>)\n",
            "torch.Size([572, 572])\n"
          ]
        },
        {
          "output_type": "execute_result",
          "data": {
            "text/plain": [
              "<matplotlib.image.AxesImage at 0x7fa8a52775d0>"
            ]
          },
          "metadata": {},
          "execution_count": 29
        },
        {
          "output_type": "display_data",
          "data": {
            "text/plain": [
              "<Figure size 432x288 with 1 Axes>"
            ],
            "image/png": "[encoded data removed]"
          },
          "metadata": {
            "needs_background": "light"
          }
        }
      ]
    }
  ]
}